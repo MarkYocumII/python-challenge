{
 "cells": [
  {
   "cell_type": "code",
   "execution_count": 39,
   "metadata": {},
   "outputs": [
    {
     "ename": "IndexError",
     "evalue": "list index out of range",
     "output_type": "error",
     "traceback": [
      "\u001b[1;31m---------------------------------------------------------------------------\u001b[0m",
      "\u001b[1;31mIndexError\u001b[0m                                Traceback (most recent call last)",
      "\u001b[1;32m<ipython-input-39-8fd251d6ce37>\u001b[0m in \u001b[0;36m<module>\u001b[1;34m()\u001b[0m\n\u001b[0;32m     62\u001b[0m \u001b[1;33m\u001b[0m\u001b[0m\n\u001b[0;32m     63\u001b[0m     \u001b[1;32mfor\u001b[0m \u001b[0mrows\u001b[0m \u001b[1;32min\u001b[0m \u001b[0mrange\u001b[0m\u001b[1;33m(\u001b[0m\u001b[0mlen\u001b[0m\u001b[1;33m(\u001b[0m\u001b[0mnew_table\u001b[0m\u001b[1;33m)\u001b[0m\u001b[1;33m-\u001b[0m\u001b[1;36m1\u001b[0m\u001b[1;33m)\u001b[0m\u001b[1;33m:\u001b[0m\u001b[1;33m\u001b[0m\u001b[0m\n\u001b[1;32m---> 64\u001b[1;33m         \u001b[1;32mif\u001b[0m\u001b[1;33m(\u001b[0m\u001b[0mrow\u001b[0m\u001b[1;33m[\u001b[0m\u001b[1;36m2\u001b[0m\u001b[1;33m]\u001b[0m \u001b[1;33m==\u001b[0m \u001b[0mmax_profit_change\u001b[0m\u001b[1;33m)\u001b[0m\u001b[1;33m:\u001b[0m\u001b[1;33m\u001b[0m\u001b[0m\n\u001b[0m\u001b[0;32m     65\u001b[0m             \u001b[0mmax_profit_month\u001b[0m \u001b[1;33m=\u001b[0m \u001b[0mrow\u001b[0m\u001b[1;33m[\u001b[0m\u001b[1;36m0\u001b[0m\u001b[1;33m]\u001b[0m\u001b[1;33m\u001b[0m\u001b[0m\n\u001b[0;32m     66\u001b[0m \u001b[1;33m\u001b[0m\u001b[0m\n",
      "\u001b[1;31mIndexError\u001b[0m: list index out of range"
     ]
    }
   ],
   "source": [
    "import os\n",
    "import csv\n",
    "import statistics\n",
    "\n",
    "\n",
    "#import budget data csv file\n",
    "budget_csv = os.path.join(\"budget_data.csv\")\n",
    "\n",
    "# Read in the CSV file\n",
    "with open(budget_csv, 'r') as csvfile:\n",
    "\n",
    "    # Split the data on commas\n",
    "    csvreader = csv.reader(csvfile, delimiter=',')\n",
    "    headers = next(csvreader)\n",
    "    #print(headers)\n",
    "    \n",
    "    #defines starting month count as zero\n",
    "    total_months = 0\n",
    "    \n",
    "    #defines starting profit as zero\n",
    "    total_profit= 0\n",
    "    \n",
    "    #create list for dates and profits separately\n",
    "    dates = []\n",
    "    profits = []\n",
    "    \n",
    "      \n",
    "    for row in csvreader:\n",
    "        \n",
    "        #adds 1 to each new data point to count total number of months for each row\n",
    "        #total_months = total_months + 1\n",
    "        \n",
    "        #adds cumulative profit in second column for each new row\n",
    "        #total_profit = total_profit + float(row[1])\n",
    "        \n",
    "        #separate date and profit data into separate lists\n",
    "        dates.append(row[0])\n",
    "        profits.append(int(row[1]))\n",
    "    \n",
    "    \n",
    "    #create list for changes in profits each month\n",
    "    profit_changes = []\n",
    "    \n",
    "    #create separate for loop to determine individual monthly changes and append to new list for profit changes\n",
    "    for i in range(len(profits)-1):\n",
    "        change = profits[i+1]-profits[i]\n",
    "        profit_changes.append(change)\n",
    "    \n",
    "    #calculate mean, max and min profits from statistics module\n",
    "    mean_profit_change = statistics.mean(profit_changes)\n",
    "    max_profit_change = max(profit_changes)\n",
    "    min_profit_change = min(profit_changes)\n",
    "    \n",
    "    \n",
    "    #print(total_months)\n",
    "    #print(total_profit)\n",
    "    #print(mean_profit_change)\n",
    "    #print(max_profit_change)\n",
    "    #print(min_profit_change)\n",
    "    \n",
    "    \n",
    "    \n",
    "        \n",
    "         \n",
    "\n",
    "\n"
   ]
  }
 ],
 "metadata": {
  "kernelspec": {
   "display_name": "Python 3",
   "language": "python",
   "name": "python3"
  },
  "language_info": {
   "codemirror_mode": {
    "name": "ipython",
    "version": 3
   },
   "file_extension": ".py",
   "mimetype": "text/x-python",
   "name": "python",
   "nbconvert_exporter": "python",
   "pygments_lexer": "ipython3",
   "version": "3.7.0"
  }
 },
 "nbformat": 4,
 "nbformat_minor": 2
}
