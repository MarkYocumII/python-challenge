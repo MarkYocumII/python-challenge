{
 "cells": [
  {
   "cell_type": "code",
   "execution_count": 14,
   "metadata": {},
   "outputs": [
    {
     "name": "stdout",
     "output_type": "stream",
     "text": [
      "86\n",
      "38382578.0\n"
     ]
    }
   ],
   "source": [
    "import os\n",
    "import csv\n",
    "\n",
    "#import budget data csv file\n",
    "budget_csv = os.path.join(\"budget_data.csv\")\n",
    "\n",
    "# Read in the CSV file\n",
    "with open(budget_csv, 'r') as csvfile:\n",
    "\n",
    "    # Split the data on commas\n",
    "    csvreader = csv.reader(csvfile, delimiter=',')\n",
    "    headers = next(csvreader)\n",
    "    #print(headers)\n",
    "    \n",
    "    #defines starting month count as zero\n",
    "    total_months = 0\n",
    "    \n",
    "    #defines starting profit as zero\n",
    "    total_profit= 0\n",
    "    \n",
    "    for row in csvreader:\n",
    "        \n",
    "        #adds 1 to each new data point to count total number of months for each row\n",
    "        total_months = total_months + 1\n",
    "        \n",
    "        #adds cumulative profit in second column for each new row\n",
    "        total_profit = total_profit + float(row[1])\n",
    "    \n",
    "    print(total_months)\n",
    "    print(total_profit)\n",
    "    \n",
    "\n",
    "    \n",
    "    \n",
    "    \n",
    "        \n",
    "         \n",
    "\n",
    "\n"
   ]
  }
 ],
 "metadata": {
  "kernelspec": {
   "display_name": "Python 3",
   "language": "python",
   "name": "python3"
  },
  "language_info": {
   "codemirror_mode": {
    "name": "ipython",
    "version": 3
   },
   "file_extension": ".py",
   "mimetype": "text/x-python",
   "name": "python",
   "nbconvert_exporter": "python",
   "pygments_lexer": "ipython3",
   "version": "3.7.0"
  }
 },
 "nbformat": 4,
 "nbformat_minor": 2
}
