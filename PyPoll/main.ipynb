{
 "cells": [
  {
   "cell_type": "code",
   "execution_count": 42,
   "metadata": {},
   "outputs": [
    {
     "name": "stdout",
     "output_type": "stream",
     "text": [
      "['Voter ID', 'County', 'Candidate']\n",
      "3521001\n",
      "['Correy', \"O'Tooley\", 'Khan', 'Li']\n",
      "[704200, 105630, 2218231, 492940]\n",
      "[0.19999994319797126, 0.02999999147969569, 0.6300001050837531, 0.13999996023857988]\n"
     ]
    }
   ],
   "source": [
    "import os\n",
    "import csv\n",
    "import statistics\n",
    "\n",
    "#import original budget data csv file\n",
    "election_csv = os.path.join(\"election_data.csv\")\n",
    "\n",
    "# Read in the CSV file\n",
    "with open(election_csv, 'r') as csvfile:\n",
    "\n",
    "    # Split the data on commas\n",
    "    csvreader = csv.reader(csvfile, delimiter=',')\n",
    "    headers = next(csvreader)\n",
    "    print(headers)\n",
    "    \n",
    "    #create empty tables for individual columns of voter_id, county and candidate data\n",
    "    \n",
    "    #initial vote counter = 0\n",
    "    total_votes = 0\n",
    "    \n",
    "    #create empty table for list of candidates\n",
    "    candidates = []\n",
    "    \n",
    "    #create table for each\n",
    "    for row in csvreader:\n",
    "        \n",
    "        #count total number of votes as total number of rows in csv reader\n",
    "        total_votes = total_votes + 1\n",
    "        candidates.append(row[2])\n",
    "    \n",
    "    #use set function to find unique candidate strings in set of candidates\n",
    "    candidates_unique = list(set(candidates))\n",
    "        \n",
    "    print(total_votes)\n",
    "    print(candidates_unique)\n",
    "    candidate_votes = []\n",
    "    candidate_percents = []\n",
    "    \n",
    "    for i in range(len(candidates_unique)):\n",
    "        candidate_votes.append(candidates.count(candidates_unique[i]))\n",
    "        candidate_perc_vote = candidate_votes[i]/total_votes\n",
    "        candidate_percents.append(candidate_perc_vote)\n",
    "        \n",
    "    print(candidate_votes)\n",
    "    print(candidate_percents)    \n",
    "    \n",
    "    \n",
    "        \n",
    "    \n",
    "        "
   ]
  }
 ],
 "metadata": {
  "kernelspec": {
   "display_name": "Python 3",
   "language": "python",
   "name": "python3"
  },
  "language_info": {
   "codemirror_mode": {
    "name": "ipython",
    "version": 3
   },
   "file_extension": ".py",
   "mimetype": "text/x-python",
   "name": "python",
   "nbconvert_exporter": "python",
   "pygments_lexer": "ipython3",
   "version": "3.7.0"
  }
 },
 "nbformat": 4,
 "nbformat_minor": 2
}
